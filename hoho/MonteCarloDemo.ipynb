{
 "cells": [
  {
   "cell_type": "code",
   "execution_count": 1,
   "id": "81cb991d",
   "metadata": {},
   "outputs": [],
   "source": [
    "import numpy as np\n",
    "import torch\n",
    "from collections import defaultdict\n",
    "import dill"
   ]
  },
  {
   "cell_type": "code",
   "execution_count": 85,
   "id": "249fa751",
   "metadata": {},
   "outputs": [],
   "source": [
    "class MCAgent:\n",
    "    \n",
    "    def __init__(self, action_dim, cfg):\n",
    "        self.action_dim = action_dim\n",
    "        self.epsilon = cfg.epsilon\n",
    "        self.gamma = cfg.gamma\n",
    "        self.Q_table = defaultdict(lambda: np.zeros(action_dim))\n",
    "        self.returns_sum = defaultdict(float)\n",
    "        self.returns_count = defaultdict(float)\n",
    "        \n",
    "    def choose_action(self, state):\n",
    "        ''' e-greedy policy'''\n",
    "        if state in self.Q_table.keys():\n",
    "            best_action = np.argmax(self.Q_table[state])\n",
    "            action_probs = np.ones(self.action_dim, dtype=float) * self.epsilon / self.action_dim\n",
    "            action_probs[best_action] += (1.0 - self.epsilon)\n",
    "            action = np.random.choice(np.arange(len(action_probs)), p=action_probs)\n",
    "        else:\n",
    "            action = np.random.randint(0, self.action_dim)\n",
    "        return action\n",
    "    \n",
    "    def update(self, one_ep_transition):\n",
    "        sa_in_episode = set([(tuple(x[0]), x[1]) for x in one_ep_transition])\n",
    "#         print('sa set: ', sa_in_episode)\n",
    "        for state, action in sa_in_episode:\n",
    "            sa_pair = (state, action)\n",
    "            first_occurence_idx = next(i for i, x in enumerate(one_ep_transition) if x[0] == state and x[1] == action)\n",
    "            G = sum([x[2] * (self.gamma ** i) for i, x in enumerate(one_ep_transition[first_occurence_idx:])])\n",
    "            \n",
    "            self.returns_sum[sa_pair] += G\n",
    "            self.returns_count[sa_pair] += 1.0\n",
    "            self.Q_table[state][action] = self.returns_sum[sa_pair] / self.returns_count[sa_pair]\n",
    "            \n",
    "            \n",
    "    def save(self,path):\n",
    "        '''把 Q表格 的数据保存到文件中\n",
    "        '''\n",
    "        torch.save(\n",
    "            obj=self.Q_table,\n",
    "            f=path+\"Q_table\",\n",
    "            pickle_module=dill\n",
    "        )\n",
    "\n",
    "    def load(self, path):\n",
    "        '''从文件中读取数据到 Q表格\n",
    "        '''\n",
    "        self.Q_table =torch.load(f=path+\"Q_table\",pickle_module=dill)\n",
    "            "
   ]
  },
  {
   "cell_type": "code",
   "execution_count": 86,
   "id": "bc4c90db",
   "metadata": {},
   "outputs": [],
   "source": [
    "import sys, os"
   ]
  },
  {
   "cell_type": "code",
   "execution_count": 87,
   "id": "d108d83c",
   "metadata": {},
   "outputs": [],
   "source": [
    "# 可将根目标路径加入系统的环境变量，方便导入其他库，如common.utils\n",
    "curr_path = os.path.dirname(os.path.realpath('__file__'))\n",
    "parent_path = os.path.dirname(curr_path)\n",
    "sys.path.append(parent_path)"
   ]
  },
  {
   "cell_type": "code",
   "execution_count": 88,
   "id": "fb3a5f60",
   "metadata": {},
   "outputs": [],
   "source": [
    "import torch\n",
    "import datetime\n",
    "\n",
    "from common.utils import save_results, make_dir, plot_rewards\n",
    "from envs.racetrack_env import RacetrackEnv\n",
    "\n",
    "%matplotlib inline"
   ]
  },
  {
   "cell_type": "code",
   "execution_count": 89,
   "id": "2766c777",
   "metadata": {},
   "outputs": [],
   "source": [
    "curr_time = datetime.datetime.now().strftime(\"%Y%m%d-%H%M%S\")"
   ]
  },
  {
   "cell_type": "code",
   "execution_count": 90,
   "id": "10b32c53",
   "metadata": {},
   "outputs": [],
   "source": [
    "class MCConfig:\n",
    "    \n",
    "    def __init__(self):\n",
    "        self.algo = 'MC'\n",
    "        self.env = 'Racetrack'\n",
    "        self.result_path = curr_path + '/outputs/' + self.env + '/' + self.algo + '/' + curr_time + 'results'\n",
    "        self.model_path = curr_path + '/outputs/' + self.env + '/' + self.algo + '/' + curr_time + 'models'\n",
    "        self.epsilon = 0.15\n",
    "        self.gamma = 0.9\n",
    "        self.train_eps = 200\n",
    "        self.device = torch.device('cuda' if torch.cuda.is_available() else 'cpu')"
   ]
  },
  {
   "cell_type": "code",
   "execution_count": 91,
   "id": "527a51f8",
   "metadata": {},
   "outputs": [],
   "source": [
    "def env_agent_config(cfg, seed=1):\n",
    "    env = RacetrackEnv()\n",
    "    action_dim = 9\n",
    "    agent = MCAgent(action_dim, cfg)\n",
    "    return env, agent"
   ]
  },
  {
   "cell_type": "code",
   "execution_count": 92,
   "id": "820e2bcc",
   "metadata": {},
   "outputs": [],
   "source": [
    "def train(cfg, env, agent):\n",
    "    print('Start to eval!')\n",
    "    print(f'Env:{cfg.env}, Algorithm:{cfg.algo}, Device:{cfg.device}')\n",
    "    rewards = []\n",
    "    ma_rewards = []\n",
    "    for i_ep in range(cfg.train_eps):\n",
    "        state = env.reset()\n",
    "        ep_reward = 0\n",
    "        one_ep_transition = []\n",
    "        while True:\n",
    "            action = agent.choose_action(state)\n",
    "            next_state, reward, done = env.step(action)\n",
    "            ep_reward += reward\n",
    "            one_ep_transition.append((state, action, reward))\n",
    "            state = next_state\n",
    "            if done:\n",
    "                break\n",
    "        rewards.append(ep_reward)\n",
    "        if ma_rewards:\n",
    "            ma_rewards.append(ma_rewards[-1] * 0.9 + ep_reward * 0.1)\n",
    "        else:\n",
    "            ma_rewards.append(ep_reward)\n",
    "        agent.update(one_ep_transition)\n",
    "        if (i_ep + 1) % 10 == 0:\n",
    "            print(f'Episode:{i_ep + 1}/{cfg.train_eps}: Reward:{ep_reward}')\n",
    "    print('Complete training!')\n",
    "    return rewards, ma_rewards"
   ]
  },
  {
   "cell_type": "code",
   "execution_count": 93,
   "id": "af007fa6",
   "metadata": {},
   "outputs": [],
   "source": [
    "def eval(cfg, env, agent):\n",
    "    print('Start to eval!')\n",
    "    print(f'Env:{cfg.env}, Algorithm:{cfg.algo}, Device:{cfg.device}')\n",
    "    rewards = []\n",
    "    ma_rewards = []\n",
    "    for i_ep in range(cfg.train_eps):\n",
    "        state = env.reset()\n",
    "        ep_reward = 0\n",
    "        while True:\n",
    "            action = agent.choose_action(state)\n",
    "            next_state, reward, done = env.step(action)\n",
    "            ep_reward += reward\n",
    "            state = next_state\n",
    "            if done:\n",
    "                break\n",
    "        rewards.append(ep_reward)\n",
    "        if ma_rewards:\n",
    "            ma_rewards.append(ma_rewards[-1] * 0.9 + ep_reward * 0.1)\n",
    "        else:\n",
    "            ma_rewards.append(ep_reward)\n",
    "        if (i_ep + 1) % 10 == 0:\n",
    "            print(f'Episode:{i_ep + 1}/{cfg.train_eps}: Reward:{ep_reward}')\n",
    "    return rewards, ma_rewards"
   ]
  },
  {
   "cell_type": "code",
   "execution_count": 99,
   "id": "8fa0e70c",
   "metadata": {
    "scrolled": true
   },
   "outputs": [
    {
     "name": "stdout",
     "output_type": "stream",
     "text": [
      "Start to eval!\n",
      "Env:Racetrack, Algorithm:MC, Device:cuda\n",
      "Episode:10/200: Reward:-3905\n",
      "Episode:20/200: Reward:-11\n",
      "Episode:30/200: Reward:-505\n",
      "Episode:40/200: Reward:-44\n",
      "Episode:50/200: Reward:0\n",
      "Episode:60/200: Reward:-45\n",
      "Episode:70/200: Reward:1\n",
      "Episode:80/200: Reward:-288\n",
      "Episode:90/200: Reward:1\n",
      "Episode:100/200: Reward:-11\n",
      "Episode:110/200: Reward:-22\n",
      "Episode:120/200: Reward:2\n",
      "Episode:130/200: Reward:-245\n",
      "Episode:140/200: Reward:-58\n",
      "Episode:150/200: Reward:-99\n",
      "Episode:160/200: Reward:-131\n",
      "Episode:170/200: Reward:-40\n",
      "Episode:180/200: Reward:1\n",
      "Episode:190/200: Reward:-27\n",
      "Episode:200/200: Reward:-213\n",
      "Complete training!\n",
      "结果保存完毕！\n"
     ]
    }
   ],
   "source": [
    "cfg = MCConfig()\n",
    "\n",
    "env, agent = env_agent_config(cfg, seed=1)\n",
    "rewards, ma_rewards = train(cfg, env, agent)\n",
    "make_dir(cfg.result_path, cfg.model_path)\n",
    "agent.save(path=cfg.model_path)\n",
    "save_results(rewards, ma_rewards, tag='train', path=cfg.result_path)\n",
    "# plot_rewards(rewards, ma_rewards, cfg, tag='train')"
   ]
  },
  {
   "cell_type": "code",
   "execution_count": 100,
   "id": "4a8887c6",
   "metadata": {},
   "outputs": [
    {
     "name": "stdout",
     "output_type": "stream",
     "text": [
      "Start to eval!\n",
      "Env:Racetrack, Algorithm:MC, Device:cuda\n",
      "Episode:10/200: Reward:-13\n",
      "Episode:20/200: Reward:-151\n",
      "Episode:30/200: Reward:-92\n",
      "Episode:40/200: Reward:0\n",
      "Episode:50/200: Reward:-110\n",
      "Episode:60/200: Reward:-71\n",
      "Episode:70/200: Reward:2\n",
      "Episode:80/200: Reward:-3\n",
      "Episode:90/200: Reward:-37\n",
      "Episode:100/200: Reward:-1\n",
      "Episode:110/200: Reward:-7\n",
      "Episode:120/200: Reward:-68\n",
      "Episode:130/200: Reward:1\n",
      "Episode:140/200: Reward:-1\n",
      "Episode:150/200: Reward:-52\n",
      "Episode:160/200: Reward:-55\n",
      "Episode:170/200: Reward:-8\n",
      "Episode:180/200: Reward:-209\n",
      "Episode:190/200: Reward:-5\n",
      "Episode:200/200: Reward:-58\n",
      "结果保存完毕！\n"
     ]
    }
   ],
   "source": [
    "env,agent = env_agent_config(cfg,seed=10)\n",
    "agent.load(path=cfg.model_path)\n",
    "rewards,ma_rewards = eval(cfg,env,agent)\n",
    "save_results(rewards,ma_rewards,tag='eval',path=cfg.result_path)"
   ]
  },
  {
   "cell_type": "code",
   "execution_count": null,
   "id": "ac255ccf",
   "metadata": {},
   "outputs": [],
   "source": []
  }
 ],
 "metadata": {
  "kernelspec": {
   "display_name": "Python 3 (ipykernel)",
   "language": "python",
   "name": "python3"
  },
  "language_info": {
   "codemirror_mode": {
    "name": "ipython",
    "version": 3
   },
   "file_extension": ".py",
   "mimetype": "text/x-python",
   "name": "python",
   "nbconvert_exporter": "python",
   "pygments_lexer": "ipython3",
   "version": "3.9.7"
  }
 },
 "nbformat": 4,
 "nbformat_minor": 5
}
